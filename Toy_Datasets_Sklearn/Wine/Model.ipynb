{
  "cells": [
    {
      "cell_type": "code",
      "execution_count": 8,
      "metadata": {
        "id": "I9sofEQXCI4v"
      },
      "outputs": [],
      "source": [
        "import numpy as np\n",
        "from sklearn.datasets import load_wine\n",
        "from sklearn.model_selection import train_test_split, GridSearchCV\n",
        "from sklearn.metrics import accuracy_score\n",
        "from sklearn.svm import SVC\n",
        "from sklearn.ensemble import RandomForestClassifier\n",
        "from sklearn.neighbors import KNeighborsClassifier\n",
        "from sklearn.preprocessing import StandardScaler\n",
        "from sklearn.pipeline import Pipeline"
      ]
    },
    {
      "cell_type": "code",
      "execution_count": 9,
      "metadata": {
        "id": "QDGJ24_KCI4y"
      },
      "outputs": [],
      "source": [
        "# Load dataset\n",
        "dataset = load_wine()\n",
        "X, y = dataset.data, dataset.target\n",
        "\n",
        "# Split dataset into training and testing sets\n",
        "X_train, X_test, y_train, y_test = train_test_split(X, y, test_size=0.3, random_state=42)\n"
      ]
    },
    {
      "cell_type": "code",
      "execution_count": 10,
      "metadata": {
        "id": "vdGCo4pKCI40"
      },
      "outputs": [],
      "source": [
        "# Define a pipeline with scaling and classifier\n",
        "def create_pipeline(classifier):\n",
        "    return Pipeline([\n",
        "        ('scaler', StandardScaler()),\n",
        "        ('classifier', classifier)\n",
        "    ])"
      ]
    },
    {
      "cell_type": "code",
      "execution_count": 11,
      "metadata": {
        "id": "qD7zXmK1CI41"
      },
      "outputs": [],
      "source": [
        "classifiers = {\n",
        "    'SVM': (SVC(), {\n",
        "        'classifier__C': [0.1, 1, 10, 100],\n",
        "        'classifier__gamma': [1, 0.1, 0.01, 0.001],\n",
        "        'classifier__kernel': ['rbf', 'linear']\n",
        "    }),\n",
        "    'RandomForest': (RandomForestClassifier(), {\n",
        "        'classifier__n_estimators': [10, 50, 100, 200],\n",
        "        'classifier__max_features': ['auto', 'sqrt', 'log2'],\n",
        "        'classifier__max_depth': [None, 10, 20, 30]\n",
        "    }),\n",
        "    'KNN': (KNeighborsClassifier(), {\n",
        "        'classifier__n_neighbors': [3, 5, 7, 9],\n",
        "        'classifier__weights': ['uniform', 'distance'],\n",
        "        'classifier__metric': ['euclidean', 'manhattan']\n",
        "    })\n",
        "}"
      ]
    },
    {
      "cell_type": "code",
      "execution_count": 12,
      "metadata": {
        "id": "4Sun6uBvCI42"
      },
      "outputs": [],
      "source": [
        "best_model = None\n",
        "best_score = 0\n",
        "best_params = None"
      ]
    },
    {
      "cell_type": "code",
      "execution_count": 13,
      "metadata": {
        "colab": {
          "base_uri": "https://localhost:8080/"
        },
        "id": "bLKYxNs7CI42",
        "outputId": "64d69fee-f6e6-4c92-def6-11e07764928b"
      },
      "outputs": [
        {
          "output_type": "stream",
          "name": "stdout",
          "text": [
            "Best parameters for SVM: {'classifier__C': 1, 'classifier__gamma': 1, 'classifier__kernel': 'linear'}\n",
            "Best cross-validation accuracy for SVM: 0.984\n",
            "Best parameters for RandomForest: {'classifier__max_depth': None, 'classifier__max_features': 'log2', 'classifier__n_estimators': 10}\n",
            "Best cross-validation accuracy for RandomForest: 0.984\n",
            "Best parameters for KNN: {'classifier__metric': 'manhattan', 'classifier__n_neighbors': 5, 'classifier__weights': 'uniform'}\n",
            "Best cross-validation accuracy for KNN: 0.9676666666666666\n"
          ]
        }
      ],
      "source": [
        "for name, (classifier, params) in classifiers.items():\n",
        "    pipeline = create_pipeline(classifier)\n",
        "    grid_search = GridSearchCV(pipeline, params, cv=5, n_jobs=-1, scoring='accuracy')\n",
        "    grid_search.fit(X_train, y_train)\n",
        "\n",
        "    print(f\"Best parameters for {name}: {grid_search.best_params_}\")\n",
        "    print(f\"Best cross-validation accuracy for {name}: {grid_search.best_score_}\")\n",
        "\n",
        "    if grid_search.best_score_ > best_score:\n",
        "        best_score = grid_search.best_score_\n",
        "        best_model = grid_search.best_estimator_\n",
        "        best_params = grid_search.best_params_"
      ]
    },
    {
      "cell_type": "code",
      "execution_count": 14,
      "metadata": {
        "colab": {
          "base_uri": "https://localhost:8080/"
        },
        "id": "hIldGzRyCI43",
        "outputId": "124f1fa4-8139-40c7-a0b8-f5a2d71f170b"
      },
      "outputs": [
        {
          "output_type": "stream",
          "name": "stdout",
          "text": [
            "Best model: Pipeline(steps=[('scaler', StandardScaler()),\n",
            "                ('classifier', SVC(C=1, gamma=1, kernel='linear'))])\n",
            "Best hyperparameters: {'classifier__C': 1, 'classifier__gamma': 1, 'classifier__kernel': 'linear'}\n",
            "Test set accuracy: 0.9814814814814815\n"
          ]
        }
      ],
      "source": [
        "y_pred = best_model.predict(X_test)\n",
        "test_accuracy = accuracy_score(y_test, y_pred)\n",
        "\n",
        "print(f\"Best model: {best_model}\")\n",
        "print(f\"Best hyperparameters: {best_params}\")\n",
        "print(f\"Test set accuracy: {test_accuracy}\")"
      ]
    }
  ],
  "metadata": {
    "kernelspec": {
      "display_name": "base",
      "language": "python",
      "name": "python3"
    },
    "language_info": {
      "codemirror_mode": {
        "name": "ipython",
        "version": 3
      },
      "file_extension": ".py",
      "mimetype": "text/x-python",
      "name": "python",
      "nbconvert_exporter": "python",
      "pygments_lexer": "ipython3",
      "version": "3.11.9"
    },
    "colab": {
      "provenance": []
    }
  },
  "nbformat": 4,
  "nbformat_minor": 0
}