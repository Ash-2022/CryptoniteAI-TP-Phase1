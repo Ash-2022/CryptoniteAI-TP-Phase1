{
  "cells": [
    {
      "cell_type": "code",
      "execution_count": 1,
      "metadata": {
        "id": "I9sofEQXCI4v"
      },
      "outputs": [],
      "source": [
        "import numpy as np\n",
        "from sklearn.datasets import load_iris\n",
        "from sklearn.model_selection import train_test_split, GridSearchCV\n",
        "from sklearn.metrics import accuracy_score\n",
        "from sklearn.svm import SVC\n",
        "from sklearn.ensemble import RandomForestClassifier\n",
        "from sklearn.neighbors import KNeighborsClassifier\n",
        "from sklearn.preprocessing import StandardScaler\n",
        "from sklearn.pipeline import Pipeline"
      ]
    },
    {
      "cell_type": "code",
      "execution_count": 2,
      "metadata": {
        "id": "QDGJ24_KCI4y"
      },
      "outputs": [],
      "source": [
        "# Load dataset\n",
        "iris = load_iris()\n",
        "X, y = iris.data, iris.target\n",
        "\n",
        "# Split dataset into training and testing sets\n",
        "X_train, X_test, y_train, y_test = train_test_split(X, y, test_size=0.3, random_state=42)\n"
      ]
    },
    {
      "cell_type": "code",
      "execution_count": 3,
      "metadata": {
        "id": "vdGCo4pKCI40"
      },
      "outputs": [],
      "source": [
        "# Define a pipeline with scaling and classifier\n",
        "def create_pipeline(classifier):\n",
        "    return Pipeline([\n",
        "        ('scaler', StandardScaler()),\n",
        "        ('classifier', classifier)\n",
        "    ])"
      ]
    },
    {
      "cell_type": "code",
      "execution_count": 4,
      "metadata": {
        "id": "qD7zXmK1CI41"
      },
      "outputs": [],
      "source": [
        "classifiers = {\n",
        "    'SVM': (SVC(), {\n",
        "        'classifier__C': [0.1, 1, 10, 100],\n",
        "        'classifier__gamma': [1, 0.1, 0.01, 0.001],\n",
        "        'classifier__kernel': ['rbf', 'linear']\n",
        "    }),\n",
        "    'RandomForest': (RandomForestClassifier(), {\n",
        "        'classifier__n_estimators': [10, 50, 100, 200],\n",
        "        'classifier__max_features': ['auto', 'sqrt', 'log2'],\n",
        "        'classifier__max_depth': [None, 10, 20, 30]\n",
        "    }),\n",
        "    'KNN': (KNeighborsClassifier(), {\n",
        "        'classifier__n_neighbors': [3, 5, 7, 9],\n",
        "        'classifier__weights': ['uniform', 'distance'],\n",
        "        'classifier__metric': ['euclidean', 'manhattan']\n",
        "    })\n",
        "}"
      ]
    },
    {
      "cell_type": "code",
      "execution_count": 5,
      "metadata": {
        "id": "4Sun6uBvCI42"
      },
      "outputs": [],
      "source": [
        "best_model = None\n",
        "best_score = 0\n",
        "best_params = None"
      ]
    },
    {
      "cell_type": "code",
      "execution_count": 6,
      "metadata": {
        "colab": {
          "base_uri": "https://localhost:8080/"
        },
        "id": "bLKYxNs7CI42",
        "outputId": "a907184c-e43a-45ad-d273-19e424afa99c"
      },
      "outputs": [
        {
          "output_type": "stream",
          "name": "stdout",
          "text": [
            "Best parameters for SVM: {'classifier__C': 1, 'classifier__gamma': 0.1, 'classifier__kernel': 'rbf'}\n",
            "Best cross-validation accuracy for SVM: 0.9523809523809523\n"
          ]
        },
        {
          "output_type": "stream",
          "name": "stderr",
          "text": [
            "/usr/local/lib/python3.10/dist-packages/sklearn/ensemble/_forest.py:424: FutureWarning: `max_features='auto'` has been deprecated in 1.1 and will be removed in 1.3. To keep the past behaviour, explicitly set `max_features='sqrt'` or remove this parameter as it is also the default value for RandomForestClassifiers and ExtraTreesClassifiers.\n",
            "  warn(\n"
          ]
        },
        {
          "output_type": "stream",
          "name": "stdout",
          "text": [
            "Best parameters for RandomForest: {'classifier__max_depth': None, 'classifier__max_features': 'auto', 'classifier__n_estimators': 50}\n",
            "Best cross-validation accuracy for RandomForest: 0.9428571428571428\n",
            "Best parameters for KNN: {'classifier__metric': 'euclidean', 'classifier__n_neighbors': 5, 'classifier__weights': 'distance'}\n",
            "Best cross-validation accuracy for KNN: 0.9428571428571428\n"
          ]
        }
      ],
      "source": [
        "for name, (classifier, params) in classifiers.items():\n",
        "    pipeline = create_pipeline(classifier)\n",
        "    grid_search = GridSearchCV(pipeline, params, cv=5, n_jobs=-1, scoring='accuracy')\n",
        "    grid_search.fit(X_train, y_train)\n",
        "\n",
        "    print(f\"Best parameters for {name}: {grid_search.best_params_}\")\n",
        "    print(f\"Best cross-validation accuracy for {name}: {grid_search.best_score_}\")\n",
        "\n",
        "    if grid_search.best_score_ > best_score:\n",
        "        best_score = grid_search.best_score_\n",
        "        best_model = grid_search.best_estimator_\n",
        "        best_params = grid_search.best_params_"
      ]
    },
    {
      "cell_type": "code",
      "execution_count": 7,
      "metadata": {
        "colab": {
          "base_uri": "https://localhost:8080/"
        },
        "id": "hIldGzRyCI43",
        "outputId": "177dc476-1046-4adf-e5f6-d5a8a412104e"
      },
      "outputs": [
        {
          "output_type": "stream",
          "name": "stdout",
          "text": [
            "Best model: Pipeline(steps=[('scaler', StandardScaler()),\n",
            "                ('classifier', SVC(C=1, gamma=0.1))])\n",
            "Best hyperparameters: {'classifier__C': 1, 'classifier__gamma': 0.1, 'classifier__kernel': 'rbf'}\n",
            "Test set accuracy: 1.0\n"
          ]
        }
      ],
      "source": [
        "y_pred = best_model.predict(X_test)\n",
        "test_accuracy = accuracy_score(y_test, y_pred)\n",
        "\n",
        "print(f\"Best model: {best_model}\")\n",
        "print(f\"Best hyperparameters: {best_params}\")\n",
        "print(f\"Test set accuracy: {test_accuracy}\")"
      ]
    }
  ],
  "metadata": {
    "kernelspec": {
      "display_name": "base",
      "language": "python",
      "name": "python3"
    },
    "language_info": {
      "codemirror_mode": {
        "name": "ipython",
        "version": 3
      },
      "file_extension": ".py",
      "mimetype": "text/x-python",
      "name": "python",
      "nbconvert_exporter": "python",
      "pygments_lexer": "ipython3",
      "version": "3.11.9"
    },
    "colab": {
      "provenance": []
    }
  },
  "nbformat": 4,
  "nbformat_minor": 0
}