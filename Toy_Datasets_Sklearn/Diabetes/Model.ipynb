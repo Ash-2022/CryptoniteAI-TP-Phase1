{
  "cells": [
    {
      "cell_type": "code",
      "execution_count": 36,
      "metadata": {
        "id": "I9sofEQXCI4v"
      },
      "outputs": [],
      "source": [
        "import numpy as np\n",
        "import pandas as pd\n",
        "from sklearn.datasets import load_diabetes\n",
        "from sklearn.model_selection import train_test_split, GridSearchCV\n",
        "from sklearn.preprocessing import StandardScaler\n",
        "from sklearn.metrics import mean_squared_error\n",
        "from sklearn.ensemble import RandomForestRegressor, GradientBoostingRegressor\n",
        "from sklearn.linear_model import Ridge, Lasso\n",
        "from sklearn.pipeline import Pipeline\n"
      ]
    },
    {
      "cell_type": "code",
      "execution_count": 37,
      "metadata": {
        "id": "QDGJ24_KCI4y"
      },
      "outputs": [],
      "source": [
        "# Load the diabetes dataset\n",
        "data = load_diabetes()\n",
        "X = data.data\n",
        "y = data.target\n",
        "\n",
        "# Split the data into training and testing sets\n",
        "X_train, X_test, y_train, y_test = train_test_split(X, y, test_size=0.2, random_state=42 , shuffle = True)\n"
      ]
    },
    {
      "cell_type": "code",
      "source": [
        "# Define models to test\n",
        "models = {\n",
        "    'RandomForest': RandomForestRegressor(),\n",
        "    'GradientBoosting': GradientBoostingRegressor(),\n",
        "    'Ridge': Ridge(),\n",
        "    'Lasso': Lasso()\n",
        "}"
      ],
      "metadata": {
        "id": "15xyGgAmD_5s"
      },
      "execution_count": 38,
      "outputs": []
    },
    {
      "cell_type": "code",
      "execution_count": 39,
      "metadata": {
        "id": "vdGCo4pKCI40"
      },
      "outputs": [],
      "source": [
        "# Standardize the data\n",
        "scaler = StandardScaler()\n",
        "X_train_scaled = scaler.fit_transform(X_train)\n",
        "X_test_scaled = scaler.transform(X_test)"
      ]
    },
    {
      "cell_type": "code",
      "execution_count": 40,
      "metadata": {
        "id": "qD7zXmK1CI41"
      },
      "outputs": [],
      "source": [
        "# Define hyperparameters for tuning\n",
        "params = {\n",
        "    'RandomForest': {\n",
        "        'n_estimators': [50, 100, 200],\n",
        "        'max_depth': [None, 10, 20, 30],\n",
        "        'min_samples_split': [2, 5, 10],\n",
        "        'min_samples_leaf': [1, 2, 4]\n",
        "    },\n",
        "    'GradientBoosting': {\n",
        "        'n_estimators': [50, 100, 200],\n",
        "        'learning_rate': [0.01, 0.1, 0.2],\n",
        "        'max_depth': [3, 5, 7],\n",
        "        'subsample': [0.8, 1.0]\n",
        "    },\n",
        "    'Ridge': {\n",
        "        'alpha': [0.01, 0.1, 1.0, 10.0, 100.0]\n",
        "    },\n",
        "    'Lasso': {\n",
        "        'alpha': [0.01, 0.1, 1.0, 10.0, 100.0]\n",
        "    }\n",
        "}"
      ]
    },
    {
      "cell_type": "code",
      "execution_count": 41,
      "metadata": {
        "id": "4Sun6uBvCI42"
      },
      "outputs": [],
      "source": [
        "# Initialize a variable to store the best model and its performance\n",
        "best_model = None\n",
        "best_score = np.inf"
      ]
    },
    {
      "cell_type": "code",
      "execution_count": 42,
      "metadata": {
        "id": "bLKYxNs7CI42"
      },
      "outputs": [],
      "source": [
        "# Perform hyperparameter tuning and evaluate each model\n",
        "for model_name in models:\n",
        "    grid_search = GridSearchCV(models[model_name], params[model_name], cv=5, scoring='neg_mean_squared_error', n_jobs=-1)\n",
        "    grid_search.fit(X_train_scaled, y_train)\n",
        "\n",
        "    # Get the best model from the grid search\n",
        "    best_estimator = grid_search.best_estimator_\n",
        "\n",
        "    # Evaluate the model on the test set\n",
        "    y_pred = best_estimator.predict(X_test_scaled)\n",
        "    mse = mean_squared_error(y_test, y_pred)\n",
        "\n",
        "    # If this model has the best score so far, save it\n",
        "    if mse < best_score:\n",
        "        best_score = mse\n",
        "        best_model = best_estimator"
      ]
    },
    {
      "cell_type": "code",
      "execution_count": 43,
      "metadata": {
        "colab": {
          "base_uri": "https://localhost:8080/"
        },
        "id": "hIldGzRyCI43",
        "outputId": "b916f8b5-53a9-4684-c7dc-9ab2bdb08950"
      },
      "outputs": [
        {
          "output_type": "stream",
          "name": "stdout",
          "text": [
            "Best Model: RandomForestRegressor(max_depth=10, min_samples_leaf=4, min_samples_split=10)\n",
            "Mean Squared Error: 2813.9471176721772\n"
          ]
        }
      ],
      "source": [
        "# Print the best model and its MSE on the test set\n",
        "print(f\"Best Model: {best_model}\")\n",
        "print(f\"Mean Squared Error: {best_score}\")"
      ]
    }
  ],
  "metadata": {
    "kernelspec": {
      "display_name": "base",
      "language": "python",
      "name": "python3"
    },
    "language_info": {
      "codemirror_mode": {
        "name": "ipython",
        "version": 3
      },
      "file_extension": ".py",
      "mimetype": "text/x-python",
      "name": "python",
      "nbconvert_exporter": "python",
      "pygments_lexer": "ipython3",
      "version": "3.11.9"
    },
    "colab": {
      "provenance": []
    }
  },
  "nbformat": 4,
  "nbformat_minor": 0
}